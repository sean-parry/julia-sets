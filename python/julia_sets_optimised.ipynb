{
 "cells": [
  {
   "cell_type": "code",
   "execution_count": 14,
   "metadata": {},
   "outputs": [
    {
     "data": {
      "application/vnd.jupyter.widget-view+json": {
       "model_id": "a9b4e1d91e47413897032cb1c25bc5a8",
       "version_major": 2,
       "version_minor": 0
      },
      "text/plain": [
       "interactive(children=(FloatSlider(value=-0.744, description='re', max=2.0, min=-2.0, step=0.01), FloatSlider(v…"
      ]
     },
     "metadata": {},
     "output_type": "display_data"
    }
   ],
   "source": [
    "import numpy as np , matplotlib.pyplot as plt, ipywidgets\n",
    "\n",
    "'''\n",
    "this generates 'pgm' images so its just black and white i should add colour to the image and get it plotted with matplot lib and have sliders\n",
    "instead of inputting the values in main\n",
    "'''\n",
    "def plot_julia_set(re=-0.744,im=0.148):\n",
    "    \"\"\"\n",
    "    generates a julia set\n",
    "    \"\"\"\n",
    "\n",
    "    width, height, max_iterations = 1000,1000,100\n",
    "    \n",
    "    c = re+im*1j\n",
    "    y, x = np.ogrid[1.4: -1.4: height*1j, -1.4: 1.4: width*1j]\n",
    "    z_array = x + y*1j\n",
    "    iterations_until_divergence = max_iterations + np.zeros(z_array.shape)\n",
    "    # create array of all True\n",
    "    not_already_diverged = iterations_until_divergence < 10000\n",
    "\n",
    "\t# creat array of all False\n",
    "    diverged_in_past = iterations_until_divergence > 10000\n",
    "\n",
    "    for i in range(max_iterations):\n",
    "        z_array = z_array**2 + c\n",
    "        z_size_array = z_array * np.conj(z_array)\n",
    "        diverging = z_size_array > 4\n",
    "\t\t\n",
    "        diverging_now = diverging & not_already_diverged\n",
    "        iterations_until_divergence[diverging_now] = i\n",
    "\t\t\n",
    "        not_already_diverged = np.invert(diverging_now) & not_already_diverged\n",
    "        diverged_in_past = diverged_in_past | diverging_now\n",
    "        z_array[diverged_in_past] = 0\n",
    "\n",
    "    iterations_until_divergence\n",
    "    plt.imshow(iterations_until_divergence, cmap='twilight_shifted')\n",
    "    plt.axis('off')\n",
    "    plt.show()\n",
    "\n",
    "\n",
    "def main():\n",
    "    #plot_julia_set()\n",
    "    ipywidgets.interact(plot_julia_set, re=(-2,2,0.01),im=(-2,2,0.01))\n",
    "\n",
    "main()"
   ]
  }
 ],
 "metadata": {
  "kernelspec": {
   "display_name": "Python 3",
   "language": "python",
   "name": "python3"
  },
  "language_info": {
   "codemirror_mode": {
    "name": "ipython",
    "version": 3
   },
   "file_extension": ".py",
   "mimetype": "text/x-python",
   "name": "python",
   "nbconvert_exporter": "python",
   "pygments_lexer": "ipython3",
   "version": "3.11.5"
  }
 },
 "nbformat": 4,
 "nbformat_minor": 2
}
