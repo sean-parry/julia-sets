{
 "cells": [
  {
   "cell_type": "code",
   "execution_count": 7,
   "metadata": {},
   "outputs": [
    {
     "data": {
      "application/vnd.jupyter.widget-view+json": {
       "model_id": "2b052cbd29f541e4bd52ddecdb7b3370",
       "version_major": 2,
       "version_minor": 0
      },
      "text/plain": [
       "interactive(children=(FloatSlider(value=0.0, description='re', max=2.0, min=-2.0, step=0.01), FloatSlider(valu…"
      ]
     },
     "metadata": {},
     "output_type": "display_data"
    }
   ],
   "source": [
    "import numpy as np , cv2, matplotlib.pyplot as plt, ipywidgets\n",
    "\n",
    "'''\n",
    "this generates 'pgm' images so its just black and white i should add colour to the image and get it plotted with matplot lib and have sliders\n",
    "instead of inputting the values in main\n",
    "'''\n",
    "def plot_julia_set(re=0.0,im=0.0):\n",
    "    \"\"\"\n",
    "    generates a julia set\n",
    "    \"\"\"\n",
    "    width, height, re_min, re_max, im_min, im_max = 500,500,-2.0,2.0,-2.0,2.0\n",
    "    img = np.zeros((height, width, 3), dtype=np.uint8)\n",
    "    c = complex(re,im)\n",
    "\n",
    "    for j in range(height):\n",
    "        im = im_min +(im_max-im_min)*j/height\n",
    "        for i in range(width):\n",
    "            re = re_min +(re_max-re_min)*i/width\n",
    "            z = complex(re,im)\n",
    "            n = (0,0,255)\n",
    "            while abs(z) < 10 and n[0]<255: \n",
    "                z = z*z+c\n",
    "                if n[1] >= 255:\n",
    "                    n  = (n[0]+15,n[1],n[2])\n",
    "                else:\n",
    "                     n  = (n[0],n[1]+15,n[2])\n",
    "            img[i,j] = [n[0],n[1],n[2]]\n",
    "\n",
    "    #cv2.imwrite(file_name,img)\n",
    "    plt.imshow(img)\n",
    "    plt.show()\n",
    "    \n",
    "def main():\n",
    "    #generate_julia_set(complex(0.0, 0.78))\n",
    "    ipywidgets.interact(plot_julia_set, re=(-2,2,0.01),im=(-2,2,0.01))\n",
    "\n",
    "main()"
   ]
  }
 ],
 "metadata": {
  "kernelspec": {
   "display_name": "Python 3",
   "language": "python",
   "name": "python3"
  },
  "language_info": {
   "codemirror_mode": {
    "name": "ipython",
    "version": 3
   },
   "file_extension": ".py",
   "mimetype": "text/x-python",
   "name": "python",
   "nbconvert_exporter": "python",
   "pygments_lexer": "ipython3",
   "version": "3.11.5"
  }
 },
 "nbformat": 4,
 "nbformat_minor": 2
}
